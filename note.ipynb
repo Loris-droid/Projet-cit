{
 "cells": [
  {
   "cell_type": "code",
   "execution_count": null,
   "metadata": {},
   "outputs": [],
   "source": [
    "// test claude coté serveur avec node\n",
    "const fs = require('fs');\n",
    "const csv = require('csv-parser');\n",
    "const results = [];\n",
    "\n",
    "fs.createReadStream('votre_fichier.csv')\n",
    "  .pipe(csv())\n",
    "  .on('data', (data) => results.push(data))\n",
    "  .on('end', () => {\n",
    "    console.log(results);\n",
    "    // Utilisez vos données ici\n",
    "  });"
   ]
  },
  {
   "cell_type": "code",
   "execution_count": null,
   "metadata": {},
   "outputs": [],
   "source": [
    "// Test claude cote navigateur \n",
    "fetch('votre_fichier.csv')\n",
    "  .then(response => response.text())\n",
    "  .then(csvData => {\n",
    "    // Convertir le CSV en tableau JavaScript\n",
    "    const rows = csvData.split('\\n');\n",
    "    const headers = rows[0].split(',');\n",
    "    const data = [];\n",
    "    \n",
    "    for (let i = 1; i < rows.length; i++) {\n",
    "      if (rows[i].trim() === '') continue;\n",
    "      const values = rows[i].split(',');\n",
    "      const entry = {};\n",
    "      \n",
    "      for (let j = 0; j < headers.length; j++) {\n",
    "        entry[headers[j]] = values[j];\n",
    "      }\n",
    "      data.push(entry);\n",
    "    }\n",
    "    \n",
    "    console.log(data);\n",
    "    // Utilisez vos données ici\n",
    "  })\n",
    "  .catch(error => console.error('Erreur:', error));"
   ]
  },
  {
   "cell_type": "markdown",
   "metadata": {},
   "source": [
    "Chercher comment faire pour lier un fichier csv avec un fichier js "
   ]
  }
 ],
 "metadata": {
  "language_info": {
   "name": "python"
  }
 },
 "nbformat": 4,
 "nbformat_minor": 2
}
